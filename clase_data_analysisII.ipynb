{
 "cells": [
  {
   "cell_type": "markdown",
   "metadata": {
    "id": "BZvE2UNZ1v3D"
   },
   "source": [
    "**2da parte: Operaciones típicas para un análisis. Limpieza de datos, análisis de datos para análisis estadístico, uso de numpy, una biblioteca científica de Python, visualización de datos mediante la biblioteca Seaborn, tratamiento de valores atípicos y uso de la distribución normal.**\n",
    "\n",
    "**2nd part: Typical operations for an analysis. Cleaning data, parsing data for statistical analysis, using numpy, a scientific Python library, visualizing data using the Seaborn library, dealing with outliers, and using normal distribution.**"
   ]
  },
  {
   "cell_type": "markdown",
   "metadata": {
    "collapsed": true,
    "id": "m8YMyVhV1sC5",
    "pycharm": {
     "name": "#%% md\n"
    }
   },
   "source": [
    "Este conjunto de datos registra los detalles y las preferencias de miles de usuarios del sitio web de StackOverflow. Aquí solo se muestran 999 datos de esos miles.\n",
    "\n",
    "This dataset records the details and preferences of thousands of users of the StackOverflow website. Only 999 of those thousands of data are shown here."
   ]
  },
  {
   "cell_type": "code",
   "execution_count": 87,
   "metadata": {
    "id": "GgZgmiNq2aoS"
   },
   "outputs": [],
   "source": [
    "import pandas as pd"
   ]
  },
  {
   "cell_type": "code",
   "execution_count": 88,
   "metadata": {
    "colab": {
     "base_uri": "https://localhost:8080/"
    },
    "id": "T1XaCdrX2lcY",
    "outputId": "a000eaa5-2df6-4c50-bd6d-97273dfcc344"
   },
   "outputs": [
    {
     "name": "stdout",
     "output_type": "stream",
     "text": [
      "      SurveyDate                                    FormalEducation  \\\n",
      "0  2/28/18 20:20           Bachelor's degree (BA. BS. B.Eng.. etc.)   \n",
      "1  6/28/18 13:26           Bachelor's degree (BA. BS. B.Eng.. etc.)   \n",
      "2    6/6/18 3:37           Bachelor's degree (BA. BS. B.Eng.. etc.)   \n",
      "3    5/9/18 1:06  Some college/university study without earning ...   \n",
      "4  4/12/18 22:41           Bachelor's degree (BA. BS. B.Eng.. etc.)   \n",
      "\n",
      "   ConvertedSalary Hobby       Country  StackOverflowJobsRecommend  \\\n",
      "0              NaN   Yes  South Africa                         NaN   \n",
      "1          70841.0   Yes       Sweeden                         7.0   \n",
      "2              NaN    No       Sweeden                         8.0   \n",
      "3          21426.0   Yes       Sweeden                         NaN   \n",
      "4          41671.0   Yes            UK                         8.0   \n",
      "\n",
      "      VersionControl  Age  Years Experience Gender   RawSalary  \n",
      "0                Git   21                13   Male         NaN  \n",
      "1     Git;Subversion   38                 9   Male   70,841.00  \n",
      "2                Git   45                11    NaN         NaN  \n",
      "3  Zip file back-ups   46                12   Male   21,426.00  \n",
      "4                Git   39                 7   Male  £41,671.00  \n"
     ]
    }
   ],
   "source": [
    "so_survey_df = pd.read_csv('so_survey.csv')\n",
    "print(so_survey_df.head())"
   ]
  },
  {
   "cell_type": "code",
   "execution_count": 89,
   "metadata": {
    "colab": {
     "base_uri": "https://localhost:8080/",
     "height": 354
    },
    "id": "l778QFnAfeHy",
    "outputId": "f402f47c-4f9d-469c-cb72-9fa1e8db500e"
   },
   "outputs": [
    {
     "data": {
      "text/html": [
       "<div>\n",
       "<style scoped>\n",
       "    .dataframe tbody tr th:only-of-type {\n",
       "        vertical-align: middle;\n",
       "    }\n",
       "\n",
       "    .dataframe tbody tr th {\n",
       "        vertical-align: top;\n",
       "    }\n",
       "\n",
       "    .dataframe thead th {\n",
       "        text-align: right;\n",
       "    }\n",
       "</style>\n",
       "<table border=\"1\" class=\"dataframe\">\n",
       "  <thead>\n",
       "    <tr style=\"text-align: right;\">\n",
       "      <th></th>\n",
       "      <th>SurveyDate</th>\n",
       "      <th>FormalEducation</th>\n",
       "      <th>ConvertedSalary</th>\n",
       "      <th>Hobby</th>\n",
       "      <th>Country</th>\n",
       "      <th>StackOverflowJobsRecommend</th>\n",
       "      <th>VersionControl</th>\n",
       "      <th>Age</th>\n",
       "      <th>Years Experience</th>\n",
       "      <th>Gender</th>\n",
       "      <th>RawSalary</th>\n",
       "    </tr>\n",
       "  </thead>\n",
       "  <tbody>\n",
       "    <tr>\n",
       "      <th>994</th>\n",
       "      <td>10/19/18 13:50</td>\n",
       "      <td>Some college/university study without earning ...</td>\n",
       "      <td>NaN</td>\n",
       "      <td>Yes</td>\n",
       "      <td>France</td>\n",
       "      <td>NaN</td>\n",
       "      <td>Subversion</td>\n",
       "      <td>45</td>\n",
       "      <td>10</td>\n",
       "      <td>Male</td>\n",
       "      <td>NaN</td>\n",
       "    </tr>\n",
       "    <tr>\n",
       "      <th>995</th>\n",
       "      <td>4/14/18 15:31</td>\n",
       "      <td>Bachelor's degree (BA. BS. B.Eng.. etc.)</td>\n",
       "      <td>58746.0</td>\n",
       "      <td>No</td>\n",
       "      <td>Spain</td>\n",
       "      <td>8.0</td>\n",
       "      <td>Git</td>\n",
       "      <td>27</td>\n",
       "      <td>16</td>\n",
       "      <td>Male</td>\n",
       "      <td>58,746.00</td>\n",
       "    </tr>\n",
       "    <tr>\n",
       "      <th>996</th>\n",
       "      <td>3/21/18 6:34</td>\n",
       "      <td>Bachelor's degree (BA. BS. B.Eng.. etc.)</td>\n",
       "      <td>55000.0</td>\n",
       "      <td>Yes</td>\n",
       "      <td>USA</td>\n",
       "      <td>NaN</td>\n",
       "      <td>Git</td>\n",
       "      <td>54</td>\n",
       "      <td>16</td>\n",
       "      <td>Male</td>\n",
       "      <td>$55,000.00</td>\n",
       "    </tr>\n",
       "    <tr>\n",
       "      <th>997</th>\n",
       "      <td>2/5/18 20:01</td>\n",
       "      <td>Bachelor's degree (BA. BS. B.Eng.. etc.)</td>\n",
       "      <td>NaN</td>\n",
       "      <td>Yes</td>\n",
       "      <td>Sweeden</td>\n",
       "      <td>NaN</td>\n",
       "      <td>Git;Subversion</td>\n",
       "      <td>23</td>\n",
       "      <td>9</td>\n",
       "      <td>NaN</td>\n",
       "      <td>NaN</td>\n",
       "    </tr>\n",
       "    <tr>\n",
       "      <th>998</th>\n",
       "      <td>2/11/18 21:23</td>\n",
       "      <td>Bachelor's degree (BA. BS. B.Eng.. etc.)</td>\n",
       "      <td>1000000.0</td>\n",
       "      <td>No</td>\n",
       "      <td>Russia</td>\n",
       "      <td>NaN</td>\n",
       "      <td>Git</td>\n",
       "      <td>18</td>\n",
       "      <td>7</td>\n",
       "      <td>NaN</td>\n",
       "      <td>1,000,000.00</td>\n",
       "    </tr>\n",
       "  </tbody>\n",
       "</table>\n",
       "</div>"
      ],
      "text/plain": [
       "         SurveyDate                                    FormalEducation  \\\n",
       "994  10/19/18 13:50  Some college/university study without earning ...   \n",
       "995   4/14/18 15:31           Bachelor's degree (BA. BS. B.Eng.. etc.)   \n",
       "996    3/21/18 6:34           Bachelor's degree (BA. BS. B.Eng.. etc.)   \n",
       "997    2/5/18 20:01           Bachelor's degree (BA. BS. B.Eng.. etc.)   \n",
       "998   2/11/18 21:23           Bachelor's degree (BA. BS. B.Eng.. etc.)   \n",
       "\n",
       "     ConvertedSalary Hobby  Country  StackOverflowJobsRecommend  \\\n",
       "994              NaN   Yes   France                         NaN   \n",
       "995          58746.0    No    Spain                         8.0   \n",
       "996          55000.0   Yes      USA                         NaN   \n",
       "997              NaN   Yes  Sweeden                         NaN   \n",
       "998        1000000.0    No   Russia                         NaN   \n",
       "\n",
       "     VersionControl  Age  Years Experience Gender     RawSalary  \n",
       "994      Subversion   45                10   Male           NaN  \n",
       "995             Git   27                16   Male     58,746.00  \n",
       "996             Git   54                16   Male    $55,000.00  \n",
       "997  Git;Subversion   23                 9    NaN           NaN  \n",
       "998             Git   18                 7    NaN  1,000,000.00  "
      ]
     },
     "execution_count": 89,
     "metadata": {},
     "output_type": "execute_result"
    }
   ],
   "source": [
    "so_survey_df.tail()"
   ]
  },
  {
   "cell_type": "code",
   "execution_count": 90,
   "metadata": {
    "colab": {
     "base_uri": "https://localhost:8080/"
    },
    "id": "CUzTzgJIfRlV",
    "outputId": "d7ad57ee-ade6-4075-bacd-519e781c10cd"
   },
   "outputs": [
    {
     "data": {
      "text/plain": [
       "(999, 11)"
      ]
     },
     "execution_count": 90,
     "metadata": {},
     "output_type": "execute_result"
    }
   ],
   "source": [
    "so_survey_df.shape"
   ]
  },
  {
   "cell_type": "code",
   "execution_count": 91,
   "metadata": {
    "colab": {
     "base_uri": "https://localhost:8080/"
    },
    "id": "6ElWej4C6usD",
    "outputId": "538b8f68-be05-482d-8d8e-790c008f23dd"
   },
   "outputs": [
    {
     "name": "stdout",
     "output_type": "stream",
     "text": [
      "SurveyDate                     object\n",
      "FormalEducation                object\n",
      "ConvertedSalary               float64\n",
      "Hobby                          object\n",
      "Country                        object\n",
      "StackOverflowJobsRecommend    float64\n",
      "VersionControl                 object\n",
      "Age                             int64\n",
      "Years Experience                int64\n",
      "Gender                         object\n",
      "RawSalary                      object\n",
      "dtype: object\n"
     ]
    }
   ],
   "source": [
    "# Es muy útil saber no solo el nombre de cada columna, sino también su tipo.\n",
    "# It is very useful to know not only the name of each column, but also its type.\n",
    "print(so_survey_df.dtypes)"
   ]
  },
  {
   "cell_type": "code",
   "execution_count": 92,
   "metadata": {
    "colab": {
     "base_uri": "https://localhost:8080/"
    },
    "id": "EX7cEBLJ1sC8",
    "outputId": "46f482a7-cdfb-4fb2-c97a-704cf326d5fd",
    "pycharm": {
     "name": "#%%\n"
    }
   },
   "outputs": [
    {
     "name": "stdout",
     "output_type": "stream",
     "text": [
      "Index(['ConvertedSalary', 'StackOverflowJobsRecommend', 'Age',\n",
      "       'Years Experience'],\n",
      "      dtype='object')\n"
     ]
    }
   ],
   "source": [
    "# Crear un subconjunto de solo las columnas numéricas\n",
    "# Create a subset of just the numeric columns\n",
    "so_numeric_df = so_survey_df.select_dtypes(include=['int', 'float'])\n",
    "print(so_numeric_df.columns)"
   ]
  },
  {
   "cell_type": "code",
   "execution_count": 93,
   "metadata": {
    "colab": {
     "base_uri": "https://localhost:8080/"
    },
    "id": "45rys0sB1sC-",
    "outputId": "fd72bb25-cbbd-45c0-a4e5-7d4a74a4ef19",
    "pycharm": {
     "name": "#%%\n"
    }
   },
   "outputs": [
    {
     "name": "stdout",
     "output_type": "stream",
     "text": [
      "          equal_binned  ConvertedSalary\n",
      "0  (-2000.0, 400000.0]              0.0\n",
      "1  (-2000.0, 400000.0]          70841.0\n",
      "2  (-2000.0, 400000.0]              0.0\n",
      "3  (-2000.0, 400000.0]          21426.0\n",
      "4  (-2000.0, 400000.0]          41671.0\n"
     ]
    }
   ],
   "source": [
    "#Voy a convertir el NaN a float 0.0, otra opción sería eliminar filas con NaN (no mayor a 20%)\n",
    "#I am going to convert the NaN to float 0.0, another option would be to delete rows with NaN (no greater than 20%)\n",
    "so_survey_df['ConvertedSalary'] = so_survey_df['ConvertedSalary'].fillna(0.0)\n",
    "\n",
    "# Para muchos valores continuos le importará menos el valor exacto, sino, una categoría, en este caso 5 bin\n",
    "# For many continuous values you will care less about the exact value, but rather a category, in this case 5 bin\n",
    "so_survey_df['equal_binned'] = pd.cut(so_survey_df['ConvertedSalary'], 5)\n",
    "\n",
    "# Imprimir las primeras 5 filas de la columna equal_binned\n",
    "# Print the first 5 rows of the equal_binned column\n",
    "print(so_survey_df[['equal_binned', 'ConvertedSalary']].head())"
   ]
  },
  {
   "cell_type": "code",
   "execution_count": 94,
   "metadata": {
    "colab": {
     "base_uri": "https://localhost:8080/"
    },
    "id": "GcZdgVg7KOXx",
    "outputId": "76b74753-e38d-4213-e28c-ef24d37a75ed"
   },
   "outputs": [
    {
     "name": "stdout",
     "output_type": "stream",
     "text": [
      "  boundary_binned  ConvertedSalary\n",
      "0        Very low              0.0\n",
      "1          Medium          70841.0\n",
      "2        Very low              0.0\n",
      "3             Low          21426.0\n",
      "4             Low          41671.0\n"
     ]
    }
   ],
   "source": [
    "import numpy as np\n",
    "\n",
    "# Especificar los límites de los contenedores\n",
    "# Specify container boundaries\n",
    "bins = [-np.inf, 10000, 50000, 100000, 150000, np.inf]\n",
    "\n",
    "# niveles de contenedores\n",
    "# container levels\n",
    "labels = ['Very low', 'Low', 'Medium', 'High', 'Very high']\n",
    "\n",
    "# Transformando la variable continua ConvertedSalary a categórica\n",
    "# Transforming the continuous variable ConvertedSalary to categorical\n",
    "so_survey_df['boundary_binned'] = pd.cut(so_survey_df['ConvertedSalary'], bins, labels = labels)\n",
    "\n",
    "# Imprimimos las 5 primeras filas de la columna boundary_binned\n",
    "# Print the first 5 rows of the boundary_binned column\n",
    "print(so_survey_df[['boundary_binned', 'ConvertedSalary']].head())"
   ]
  },
  {
   "cell_type": "code",
   "execution_count": 95,
   "metadata": {
    "colab": {
     "base_uri": "https://localhost:8080/",
     "height": 505
    },
    "id": "6XzXymF7CrgL",
    "outputId": "526d2b2c-a48c-4447-d82f-9ee55ae87127"
   },
   "outputs": [
    {
     "data": {
      "text/plain": [
       "Text(0.5, 1.0, 'Category Salary')"
      ]
     },
     "execution_count": 95,
     "metadata": {},
     "output_type": "execute_result"
    },
    {
     "data": {
      "image/png": "[encoded data removed]",
      "text/plain": [
       "<Figure size 936x360 with 1 Axes>"
      ]
     },
     "metadata": {},
     "output_type": "display_data"
    }
   ],
   "source": [
    "import matplotlib.pyplot as plt\n",
    "import seaborn as sns\n",
    "\n",
    "# Ahora haremos un gráfico con variables categóricas y continuas\n",
    "# Now we will make a graph with categorical and continuous variables\n",
    "plt.figure(figsize=(13,5))\n",
    "sns.boxplot(x=so_survey_df['ConvertedSalary'],y=so_survey_df['boundary_binned'], palette='rainbow')\n",
    "plt.title(\"Category Salary\")"
   ]
  },
  {
   "cell_type": "markdown",
   "metadata": {
    "id": "CSB2j3LA1sC-"
   },
   "source": [
    "**¿Por qué existen valores perdidos?**\n",
    "\n",
    "___\n",
    "- ¿Cómo se produce ésto?\n",
    "    - Los datos no son recolectados adecuadamente\n",
    "    - Errores de manejo en la colección\n",
    "    - Datos intencionalmente omitidos\n",
    "    - Podrían generarse por transformaciones mal hechas de la data \n",
    "\n",
    "- Comando útiles:\n",
    "- pd.info()\n",
    "- pd.isnull()\n",
    "- pd.isnull().sum()\n",
    "- df.notnull()\n",
    "\n",
    "**Why are there missing values?**\n",
    "\n",
    "___\n",
    "- How does this occur?\n",
    "    - Data is not collected properly\n",
    "    - Handling errors in the collection\n",
    "    - Data intentionally omitted\n",
    "    - They could be generated by poorly done transformations of the data\n",
    "\n",
    "- Useful command:\n",
    "- pd.info()\n",
    "- pd.isnull()\n",
    "- pd.isnull().sum()\n",
    "- df.notnull()\n",
    "___"
   ]
  },
  {
   "cell_type": "code",
   "execution_count": 96,
   "metadata": {
    "colab": {
     "base_uri": "https://localhost:8080/"
    },
    "id": "kRu0t4_i1sC-",
    "outputId": "97fb6a67-ade8-4c83-c78c-30cb94d5a28f",
    "pycharm": {
     "name": "#%%\n"
    }
   },
   "outputs": [
    {
     "name": "stdout",
     "output_type": "stream",
     "text": [
      "<class 'pandas.core.frame.DataFrame'>\n",
      "RangeIndex: 999 entries, 0 to 998\n",
      "Data columns (total 2 columns):\n",
      " #   Column  Non-Null Count  Dtype \n",
      "---  ------  --------------  ----- \n",
      " 0   Age     999 non-null    int64 \n",
      " 1   Gender  693 non-null    object\n",
      "dtypes: int64(1), object(1)\n",
      "memory usage: 15.7+ KB\n",
      "None\n"
     ]
    }
   ],
   "source": [
    "#La mayoría de los conjuntos de datos contienen valores faltantes, a menudo representados como NaN\n",
    "#Most data sets contain missing values, often represented as NaN\n",
    "\n",
    "# Exploremos este subset\n",
    "# Let's explore this subset\n",
    "sub_df = so_survey_df[['Age', 'Gender']]\n",
    "\n",
    "# imprimimos lo valores faltantes\n",
    "# print the missing values\n",
    "print(sub_df.info())"
   ]
  },
  {
   "cell_type": "code",
   "execution_count": 97,
   "metadata": {
    "colab": {
     "base_uri": "https://localhost:8080/"
    },
    "id": "bOB16k4x1sC_",
    "outputId": "23a64a63-86f0-4808-935c-0893614f999c",
    "pycharm": {
     "name": "#%%\n"
    }
   },
   "outputs": [
    {
     "name": "stdout",
     "output_type": "stream",
     "text": [
      "(999, 13)\n"
     ]
    }
   ],
   "source": [
    "# Para imprimir el número de filas y columnas usamos el atributo shape\n",
    "# To print the number of rows and columns we use the shape attribute\n",
    "print(so_survey_df.shape)"
   ]
  },
  {
   "cell_type": "code",
   "execution_count": 98,
   "metadata": {
    "colab": {
     "base_uri": "https://localhost:8080/"
    },
    "id": "IjYlEWjlKZIl",
    "outputId": "5c7bfd35-a0a7-4b61-f2ad-e0055f5b4434"
   },
   "outputs": [
    {
     "name": "stdout",
     "output_type": "stream",
     "text": [
      "(264, 13)\n"
     ]
    }
   ],
   "source": [
    "# Crear un nuevo df para borrar filas de valores faltantes\n",
    "# Create a new df to delete rows of missing values\n",
    "no_missing_values_rows = so_survey_df.dropna()\n",
    "\n",
    "# Imprimir nuevamente la dimensión\n",
    "# Print the dimension again\n",
    "print(no_missing_values_rows.shape)"
   ]
  },
  {
   "cell_type": "code",
   "execution_count": 99,
   "metadata": {
    "colab": {
     "base_uri": "https://localhost:8080/"
    },
    "id": "iokhx674Kd7R",
    "outputId": "100eff25-e639-4aa6-8681-cbb74c3e2c68"
   },
   "outputs": [
    {
     "name": "stdout",
     "output_type": "stream",
     "text": [
      "(999, 10)\n"
     ]
    }
   ],
   "source": [
    "# Es mala idea borrar tantos datos, recomendable es borrar sólo las columnas con filas incompletas\n",
    "# It is a bad idea to delete so much data, it is advisable to delete only the columns with incomplete rows\n",
    "no_missing_values_cols = so_survey_df.dropna(how='any', axis=1)\n",
    "\n",
    "# Imprimir nuevamente la dimensión\n",
    "# Print the dimension again\n",
    "print(no_missing_values_cols.shape)"
   ]
  },
  {
   "cell_type": "code",
   "execution_count": 100,
   "metadata": {
    "colab": {
     "base_uri": "https://localhost:8080/"
    },
    "id": "OhEJuu5FKisL",
    "outputId": "06379e6c-5fdd-4e19-c936-aeeb69d94fab"
   },
   "outputs": [
    {
     "name": "stdout",
     "output_type": "stream",
     "text": [
      "(693, 13)\n"
     ]
    }
   ],
   "source": [
    "# Rellenar de NaN donde falta sexo\n",
    "# Fill with NaN where sex is missing\n",
    "no_gender = so_survey_df.dropna(subset=['Gender'])\n",
    "\n",
    "# Imprimir nuevamente la dimensión\n",
    "# Print the dimension again\n",
    "print(no_gender.shape)\n",
    "\n",
    "# Hay que tener mucho cuidado cuando son muchos los valores perdidos (> 20% es mucho), por lo tanto, no se pueden borrar tantas filas\n",
    "# You have to be very careful when there are many missing values (> 20% is a lot), therefore, you cannot delete so many rows"
   ]
  },
  {
   "cell_type": "code",
   "execution_count": 101,
   "metadata": {
    "colab": {
     "base_uri": "https://localhost:8080/"
    },
    "id": "DCoaZapO1sC_",
    "outputId": "41ae9965-d41e-4022-f60c-cb75008a43b3",
    "pycharm": {
     "name": "#%%\n"
    }
   },
   "outputs": [
    {
     "name": "stdout",
     "output_type": "stream",
     "text": [
      "Male                                                                         632\n",
      "Female                                                                        53\n",
      "Female;Male                                                                    2\n",
      "Transgender                                                                    2\n",
      "Female;Male;Transgender;Non-binary. genderqueer. or gender non-conforming      1\n",
      "Male;Non-binary. genderqueer. or gender non-conforming                         1\n",
      "Non-binary. genderqueer. or gender non-conforming                              1\n",
      "Female;Transgender                                                             1\n",
      "Name: Gender, dtype: int64\n"
     ]
    }
   ],
   "source": [
    "# imprimiendo el conteo de categorías de la columna Gender:\n",
    "# printing the category count of the Gender column:\n",
    "print(so_survey_df['Gender'].value_counts())"
   ]
  },
  {
   "cell_type": "code",
   "execution_count": 102,
   "metadata": {
    "colab": {
     "base_uri": "https://localhost:8080/"
    },
    "id": "Qo1E7hEbK4BX",
    "outputId": "9d1eff33-3099-4ebf-fff7-1bcaf215373e"
   },
   "outputs": [
    {
     "name": "stdout",
     "output_type": "stream",
     "text": [
      "Male                                                                         632\n",
      "Not Given                                                                    306\n",
      "Female                                                                        53\n",
      "Female;Male                                                                    2\n",
      "Transgender                                                                    2\n",
      "Female;Male;Transgender;Non-binary. genderqueer. or gender non-conforming      1\n",
      "Male;Non-binary. genderqueer. or gender non-conforming                         1\n",
      "Non-binary. genderqueer. or gender non-conforming                              1\n",
      "Female;Transgender                                                             1\n",
      "Name: Gender, dtype: int64\n"
     ]
    }
   ],
   "source": [
    "# reemplazar valores perdidos\n",
    "# replace missing values\n",
    "so_survey_df['Gender'].fillna(value='Not Given', inplace=True)\n",
    "\n",
    "# volver a imprimir el conteo de la columna Gender:\n",
    "# reprint the Gender column count:\n",
    "print(so_survey_df['Gender'].value_counts())"
   ]
  },
  {
   "cell_type": "markdown",
   "metadata": {
    "id": "h4U0O2yB1sDA"
   },
   "source": [
    "- Si se eliminan muchos datos, ¿Qué se puede hacer?\n",
    "    - **Columnas categóricas**: Se puede reemplazar por el valor más común o el tipo 'None', ya hecho en el ejemplo anterior.\n",
    "    - **Columnas numéricas**: Reemplazar valores perdidos por la media o mediana.\n",
    "    \n",
    "- If a lot of data is deleted, what can be done?\n",
    "    - **Categorical columns**: It can be replaced by the most common value or the type 'None', already done in the previous example.\n",
    "    - **Numeric columns**: Replace missing values with the mean or median."
   ]
  },
  {
   "cell_type": "code",
   "execution_count": 103,
   "metadata": {
    "colab": {
     "base_uri": "https://localhost:8080/"
    },
    "id": "NC1hU5k51sDA",
    "outputId": "d59d08e7-0706-4289-d87e-ecae36690792",
    "pycharm": {
     "name": "#%%\n"
    }
   },
   "outputs": [
    {
     "name": "stdout",
     "output_type": "stream",
     "text": [
      "0    NaN\n",
      "1    7.0\n",
      "2    8.0\n",
      "3    NaN\n",
      "4    8.0\n",
      "Name: StackOverflowJobsRecommend, dtype: float64\n"
     ]
    }
   ],
   "source": [
    "#Relleno de valores faltantes continuos\n",
    "#Filling continuous missing values\n",
    "# Imprimimos las primeras cinco filas de la columna StackOverflowJobsRecommend y otras inspecciones\n",
    "# We print the first five rows of the StackOverflowJobsRecommend column and inspect others\n",
    "print(so_survey_df['StackOverflowJobsRecommend'].head())"
   ]
  },
  {
   "cell_type": "code",
   "execution_count": 104,
   "metadata": {},
   "outputs": [
    {
     "name": "stdout",
     "output_type": "stream",
     "text": [
      "512\n"
     ]
    }
   ],
   "source": [
    "print(so_survey_df['StackOverflowJobsRecommend'].isnull().sum())"
   ]
  },
  {
   "cell_type": "code",
   "execution_count": 105,
   "metadata": {
    "colab": {
     "base_uri": "https://localhost:8080/"
    },
    "id": "eOtEKVi7LGx9",
    "outputId": "074510b0-6462-429b-c1c3-b00d76162c53"
   },
   "outputs": [
    {
     "name": "stdout",
     "output_type": "stream",
     "text": [
      "0    7.061602\n",
      "1    7.000000\n",
      "2    8.000000\n",
      "3    7.061602\n",
      "4    8.000000\n",
      "Name: StackOverflowJobsRecommend, dtype: float64\n"
     ]
    }
   ],
   "source": [
    "# Rellena los valores que faltan con la media\n",
    "# Fill in missing values with the mean\n",
    "so_survey_df['StackOverflowJobsRecommend'].fillna(so_survey_df['StackOverflowJobsRecommend'].mean(), inplace=True)\n",
    "\n",
    "# Imprimimos las primeras cinco filas de nuevo de la columna StackOverflowJobsRecommend para observar\n",
    "# We print the first five rows again from the StackOverflowJobsRecommend column to observe\n",
    "print(so_survey_df['StackOverflowJobsRecommend'].head())"
   ]
  },
  {
   "cell_type": "code",
   "execution_count": 106,
   "metadata": {
    "colab": {
     "base_uri": "https://localhost:8080/"
    },
    "id": "Iw2dnMaQLPV5",
    "outputId": "0c185811-18ee-4d2c-8bd7-5a2cb8115aec"
   },
   "outputs": [
    {
     "name": "stdout",
     "output_type": "stream",
     "text": [
      "0    7.0\n",
      "1    7.0\n",
      "2    8.0\n",
      "3    7.0\n",
      "4    8.0\n",
      "Name: StackOverflowJobsRecommend, dtype: float64\n"
     ]
    }
   ],
   "source": [
    "# Redondeamos los valores de StackOverflowJobsRecommend\n",
    "# We round the values of StackOverflowJobsRecommend\n",
    "import numpy as np\n",
    "so_survey_df['StackOverflowJobsRecommend'] = np.round(so_survey_df['StackOverflowJobsRecommend'])\n",
    "\n",
    "# Imprimimos las primeras cinco filas\n",
    "# We print the first five rows\n",
    "print(so_survey_df['StackOverflowJobsRecommend'].head())"
   ]
  },
  {
   "cell_type": "code",
   "execution_count": 107,
   "metadata": {},
   "outputs": [
    {
     "name": "stdout",
     "output_type": "stream",
     "text": [
      "0\n"
     ]
    }
   ],
   "source": [
    "print(so_survey_df['StackOverflowJobsRecommend'].isnull().sum())"
   ]
  },
  {
   "cell_type": "markdown",
   "metadata": {
    "id": "XEWPAM-X1sDA"
   },
   "source": [
    "#**Tratar con otros problemas de datos**\n",
    "Removiendo expresiones regulares de los números.\n",
    "\n",
    "#**Deal with other data issues**\n",
    "Removing regular expressions from numbers."
   ]
  },
  {
   "cell_type": "code",
   "execution_count": 108,
   "metadata": {
    "colab": {
     "base_uri": "https://localhost:8080/"
    },
    "id": "L9lHy3_5u2LU",
    "outputId": "36eb3762-3dd7-464b-8283-5a274cc53955"
   },
   "outputs": [
    {
     "name": "stdout",
     "output_type": "stream",
     "text": [
      "0            NaN\n",
      "1      70,841.00\n",
      "2            NaN\n",
      "3      21,426.00\n",
      "4     £41,671.00\n",
      "5     120,000.00\n",
      "6            NaN\n",
      "7     250,000.00\n",
      "8            NaN\n",
      "9           0.00\n",
      "10     47,904.00\n",
      "11           NaN\n",
      "12     95,968.00\n",
      "13           NaN\n",
      "14        420.00\n",
      "15    £75,000.00\n",
      "16    £10,958.00\n",
      "17    $51,408.00\n",
      "18    $72,611.00\n",
      "19    900,000.00\n",
      "20           NaN\n",
      "21    $30,000.00\n",
      "22           NaN\n",
      "23     44,000.00\n",
      "24    $60,000.00\n",
      "25           NaN\n",
      "26     80,000.00\n",
      "27           NaN\n",
      "28           NaN\n",
      "29           NaN\n",
      "Name: RawSalary, dtype: object\n"
     ]
    }
   ],
   "source": [
    "# Inspeccionando la columna RawSalary\n",
    "# Inspecting the RawSalary column\n",
    "print(so_survey_df['RawSalary'].head(30))"
   ]
  },
  {
   "cell_type": "code",
   "execution_count": 109,
   "metadata": {
    "colab": {
     "base_uri": "https://localhost:8080/"
    },
    "id": "Ndjs5dMh1sDA",
    "outputId": "3c304abf-2bfd-44e5-d656-b594818307f1",
    "pycharm": {
     "name": "#%%\n"
    }
   },
   "outputs": [
    {
     "name": "stderr",
     "output_type": "stream",
     "text": [
      "/home/alejandro/.pyenv/versions/3.7.13/lib/python3.7/site-packages/ipykernel_launcher.py:7: FutureWarning: The default value of regex will change from True to False in a future version. In addition, single character regular expressions will *not* be treated as literal strings when regex=True.\n",
      "  import sys\n"
     ]
    }
   ],
   "source": [
    "# Removiendo comas, en ambos casos primero transformamos la columna de objeto a string\n",
    "# Removing commas, in both cases we first transform the column from object to string\n",
    "so_survey_df['RawSalary'] = so_survey_df['RawSalary'].str.replace(',', '')\n",
    "\n",
    "# Removiendo expresiones regulares con símbolo dólar\n",
    "# Removing regular expressions with dollar symbol\n",
    "so_survey_df['RawSalary'] = so_survey_df['RawSalary'].str.replace('$', '')"
   ]
  },
  {
   "cell_type": "code",
   "execution_count": 110,
   "metadata": {
    "colab": {
     "base_uri": "https://localhost:8080/"
    },
    "id": "QTEa6Q5U1sDA",
    "outputId": "5808ade6-70a8-42be-92be-138305e5a925",
    "pycharm": {
     "name": "#%%\n"
    }
   },
   "outputs": [
    {
     "name": "stdout",
     "output_type": "stream",
     "text": [
      "0           NaN\n",
      "2           NaN\n",
      "4     £41671.00\n",
      "6           NaN\n",
      "8           NaN\n",
      "11          NaN\n",
      "13          NaN\n",
      "15    £75000.00\n",
      "16    £10958.00\n",
      "20          NaN\n",
      "Name: RawSalary, dtype: object\n"
     ]
    }
   ],
   "source": [
    "# Convertir la columna a valores numéricos\n",
    "# Convert column to numeric values\n",
    "numeric_vals = pd.to_numeric(so_survey_df['RawSalary'], errors='coerce')\n",
    "\n",
    "# Encuentrar los índices de valores faltantes\n",
    "# Find indexes of missing values\n",
    "idx = numeric_vals.isna()\n",
    "\n",
    "# Imrimir las filas relevates\n",
    "# Print relevant rows\n",
    "print(so_survey_df['RawSalary'][idx].head(10))"
   ]
  },
  {
   "cell_type": "code",
   "execution_count": 111,
   "metadata": {
    "colab": {
     "base_uri": "https://localhost:8080/"
    },
    "id": "7N92GUxfLiQT",
    "outputId": "d213e0d8-7a9b-4df2-81a3-0ceb60f488a5"
   },
   "outputs": [
    {
     "name": "stdout",
     "output_type": "stream",
     "text": [
      "0            NaN\n",
      "1        70841.0\n",
      "2            NaN\n",
      "3        21426.0\n",
      "4        41671.0\n",
      "         ...    \n",
      "994          NaN\n",
      "995      58746.0\n",
      "996      55000.0\n",
      "997          NaN\n",
      "998    1000000.0\n",
      "Name: RawSalary, Length: 999, dtype: float64\n",
      "float64\n"
     ]
    }
   ],
   "source": [
    "from numpy.core.multiarray import dtype\n",
    "# Removiendo expresiones regulares con símbolo de libra esterlina\n",
    "# Removing regular expressions with pound sterling symbol\n",
    "so_survey_df['RawSalary'] = so_survey_df['RawSalary'].str.replace('£', '')\n",
    "\n",
    "# Covertir la colunma de objeto a float\n",
    "# Convert column from object to float\n",
    "so_survey_df['RawSalary'] = so_survey_df['RawSalary'].astype('float')\n",
    "\n",
    "# Imrimir la columna y su tipo\n",
    "# Print the column and its type\n",
    "print(so_survey_df['RawSalary'])\n",
    "print(dtype(so_survey_df['RawSalary']))"
   ]
  },
  {
   "cell_type": "markdown",
   "metadata": {
    "id": "EWExMiGV1sDB"
   },
   "source": [
    "**Distribución Normal o Gaussiana**\n",
    "___\n",
    "- La mayoría de los modelos asumen que sus datos están normalmente distribuidos y/o en la misma escala\n",
    "    - 1 sd = 66.27%; 2 sd = 95.45%; 3 sd = 99.73%\n",
    "___\n",
    "\n",
    "**Normal or Gaussian Distribution**\n",
    "\n",
    " - Most models assume that your data are normally distributed and/or on the same scale\n",
    "      - 1 sd = 66.27%; 2 sd = 95.45%; 3 sd = 99.73%"
   ]
  },
  {
   "cell_type": "markdown",
   "metadata": {
    "id": "igP5rocCiYdF"
   },
   "source": [
    "**Uso de la distribución normal**\n",
    "___\n",
    "- Haremos un par de predicciones para la altura de jugadores, previa comprobación de que los datos se comportan como una distribución normal\n",
    "___\n",
    "\n",
    "**Using the normal distribution**\n",
    "___\n",
    "- We will make a couple of predictions for the height of players, after checking that the data behaves like a normal distribution\n",
    "___"
   ]
  },
  {
   "cell_type": "code",
   "execution_count": 112,
   "metadata": {
    "colab": {
     "base_uri": "https://localhost:8080/",
     "height": 206
    },
    "id": "ryMpaLkSiXQn",
    "outputId": "69c833fb-eb93-4245-8ea0-0a69a94b4ad6"
   },
   "outputs": [
    {
     "data": {
      "text/html": [
       "<div>\n",
       "<style scoped>\n",
       "    .dataframe tbody tr th:only-of-type {\n",
       "        vertical-align: middle;\n",
       "    }\n",
       "\n",
       "    .dataframe tbody tr th {\n",
       "        vertical-align: top;\n",
       "    }\n",
       "\n",
       "    .dataframe thead th {\n",
       "        text-align: right;\n",
       "    }\n",
       "</style>\n",
       "<table border=\"1\" class=\"dataframe\">\n",
       "  <thead>\n",
       "    <tr style=\"text-align: right;\">\n",
       "      <th></th>\n",
       "      <th>ID</th>\n",
       "      <th>Name</th>\n",
       "      <th>Sex</th>\n",
       "      <th>Age</th>\n",
       "      <th>Height</th>\n",
       "      <th>Weight</th>\n",
       "      <th>Team</th>\n",
       "      <th>NOC</th>\n",
       "      <th>Games</th>\n",
       "      <th>Year</th>\n",
       "      <th>Season</th>\n",
       "      <th>City</th>\n",
       "      <th>Sport</th>\n",
       "      <th>Event</th>\n",
       "      <th>Medal</th>\n",
       "    </tr>\n",
       "  </thead>\n",
       "  <tbody>\n",
       "    <tr>\n",
       "      <th>0</th>\n",
       "      <td>1</td>\n",
       "      <td>A Dijiang</td>\n",
       "      <td>M</td>\n",
       "      <td>24.0</td>\n",
       "      <td>180.0</td>\n",
       "      <td>80.0</td>\n",
       "      <td>China</td>\n",
       "      <td>CHN</td>\n",
       "      <td>1992 Summer</td>\n",
       "      <td>1992</td>\n",
       "      <td>Summer</td>\n",
       "      <td>Barcelona</td>\n",
       "      <td>Basketball</td>\n",
       "      <td>Basketball Men's Basketball</td>\n",
       "      <td>NaN</td>\n",
       "    </tr>\n",
       "    <tr>\n",
       "      <th>1</th>\n",
       "      <td>2</td>\n",
       "      <td>A Lamusi</td>\n",
       "      <td>M</td>\n",
       "      <td>23.0</td>\n",
       "      <td>170.0</td>\n",
       "      <td>60.0</td>\n",
       "      <td>China</td>\n",
       "      <td>CHN</td>\n",
       "      <td>2012 Summer</td>\n",
       "      <td>2012</td>\n",
       "      <td>Summer</td>\n",
       "      <td>London</td>\n",
       "      <td>Judo</td>\n",
       "      <td>Judo Men's Extra-Lightweight</td>\n",
       "      <td>NaN</td>\n",
       "    </tr>\n",
       "    <tr>\n",
       "      <th>2</th>\n",
       "      <td>3</td>\n",
       "      <td>Gunnar Nielsen Aaby</td>\n",
       "      <td>M</td>\n",
       "      <td>24.0</td>\n",
       "      <td>NaN</td>\n",
       "      <td>NaN</td>\n",
       "      <td>Denmark</td>\n",
       "      <td>DEN</td>\n",
       "      <td>1920 Summer</td>\n",
       "      <td>1920</td>\n",
       "      <td>Summer</td>\n",
       "      <td>Antwerpen</td>\n",
       "      <td>Football</td>\n",
       "      <td>Football Men's Football</td>\n",
       "      <td>NaN</td>\n",
       "    </tr>\n",
       "    <tr>\n",
       "      <th>3</th>\n",
       "      <td>4</td>\n",
       "      <td>Edgar Lindenau Aabye</td>\n",
       "      <td>M</td>\n",
       "      <td>34.0</td>\n",
       "      <td>NaN</td>\n",
       "      <td>NaN</td>\n",
       "      <td>Denmark/Sweden</td>\n",
       "      <td>DEN</td>\n",
       "      <td>1900 Summer</td>\n",
       "      <td>1900</td>\n",
       "      <td>Summer</td>\n",
       "      <td>Paris</td>\n",
       "      <td>Tug-Of-War</td>\n",
       "      <td>Tug-Of-War Men's Tug-Of-War</td>\n",
       "      <td>Gold</td>\n",
       "    </tr>\n",
       "    <tr>\n",
       "      <th>4</th>\n",
       "      <td>5</td>\n",
       "      <td>Christine Jacoba Aaftink</td>\n",
       "      <td>F</td>\n",
       "      <td>21.0</td>\n",
       "      <td>185.0</td>\n",
       "      <td>82.0</td>\n",
       "      <td>Netherlands</td>\n",
       "      <td>NED</td>\n",
       "      <td>1988 Winter</td>\n",
       "      <td>1988</td>\n",
       "      <td>Winter</td>\n",
       "      <td>Calgary</td>\n",
       "      <td>Speed Skating</td>\n",
       "      <td>Speed Skating Women's 500 metres</td>\n",
       "      <td>NaN</td>\n",
       "    </tr>\n",
       "  </tbody>\n",
       "</table>\n",
       "</div>"
      ],
      "text/plain": [
       "   ID                      Name Sex   Age  Height  Weight            Team  \\\n",
       "0   1                 A Dijiang   M  24.0   180.0    80.0           China   \n",
       "1   2                  A Lamusi   M  23.0   170.0    60.0           China   \n",
       "2   3       Gunnar Nielsen Aaby   M  24.0     NaN     NaN         Denmark   \n",
       "3   4      Edgar Lindenau Aabye   M  34.0     NaN     NaN  Denmark/Sweden   \n",
       "4   5  Christine Jacoba Aaftink   F  21.0   185.0    82.0     Netherlands   \n",
       "\n",
       "   NOC        Games  Year  Season       City          Sport  \\\n",
       "0  CHN  1992 Summer  1992  Summer  Barcelona     Basketball   \n",
       "1  CHN  2012 Summer  2012  Summer     London           Judo   \n",
       "2  DEN  1920 Summer  1920  Summer  Antwerpen       Football   \n",
       "3  DEN  1900 Summer  1900  Summer      Paris     Tug-Of-War   \n",
       "4  NED  1988 Winter  1988  Winter    Calgary  Speed Skating   \n",
       "\n",
       "                              Event Medal  \n",
       "0       Basketball Men's Basketball   NaN  \n",
       "1      Judo Men's Extra-Lightweight   NaN  \n",
       "2           Football Men's Football   NaN  \n",
       "3       Tug-Of-War Men's Tug-Of-War  Gold  \n",
       "4  Speed Skating Women's 500 metres   NaN  "
      ]
     },
     "execution_count": 112,
     "metadata": {},
     "output_type": "execute_result"
    }
   ],
   "source": [
    "# Trabajaremos sobre los datos de los Juegos Olímpicos de Río de Janeiro 2016. \n",
    "# Y mostraremos las alturas de los jugadores de voleibol y baloncesto.\n",
    "# We will work on data from the 2016 Rio de Janeiro Olympic Games.\n",
    "# And we will show the heights of volleyball and basketball players.\n",
    "df_olympic = pd.read_csv('athlete_events.csv')\n",
    "df_olympic.head()"
   ]
  },
  {
   "cell_type": "code",
   "execution_count": 113,
   "metadata": {
    "colab": {
     "base_uri": "https://localhost:8080/"
    },
    "id": "UP0a7Fx0HC_w",
    "outputId": "7a13b834-2c72-4894-ee5f-f6c505e0a85c"
   },
   "outputs": [
    {
     "data": {
      "text/plain": [
       "(271116, 15)"
      ]
     },
     "execution_count": 113,
     "metadata": {},
     "output_type": "execute_result"
    }
   ],
   "source": [
    "df_olympic.shape"
   ]
  },
  {
   "cell_type": "code",
   "execution_count": 114,
   "metadata": {
    "id": "SjgIoYVKuBYW"
   },
   "outputs": [],
   "source": [
    "# Básicamete esta función es de uso recurrete para construir gráficos\n",
    "# Basically this function is used to build graphs\n",
    "def label_graph(ticksfont , x_label , y_label , title_label , fontsize):\n",
    "    \n",
    "    plt.xticks(fontsize = ticksfont)\n",
    "    plt.yticks(fontsize = ticksfont)\n",
    "\n",
    "    plt.xlabel(x_label, fontsize = fontsize)\n",
    "    plt.ylabel(y_label , fontsize = fontsize)\n",
    "    plt.title(title_label, fontsize = fontsize)"
   ]
  },
  {
   "cell_type": "code",
   "execution_count": 115,
   "metadata": {
    "colab": {
     "base_uri": "https://localhost:8080/",
     "height": 865
    },
    "id": "OK0d7Zd2l5A0",
    "outputId": "9f9cdba7-f0a0-42c6-d13a-f7306bab620a"
   },
   "outputs": [
    {
     "name": "stderr",
     "output_type": "stream",
     "text": [
      "/home/alejandro/.pyenv/versions/3.7.13/lib/python3.7/site-packages/ipykernel_launcher.py:7: UserWarning: \n",
      "\n",
      "`distplot` is a deprecated function and will be removed in seaborn v0.14.0.\n",
      "\n",
      "Please adapt your code to use either `displot` (a figure-level function with\n",
      "similar flexibility) or `kdeplot` (an axes-level function for kernel density plots).\n",
      "\n",
      "For a guide to updating your code to use the new functions, please see\n",
      "https://gist.github.com/mwaskom/de44147ed2974457ad6372750bbe5751\n",
      "\n",
      "  import sys\n"
     ]
    },
    {
     "data": {
      "image/png": "[encoded data removed]",
      "text/plain": [
       "<Figure size 864x432 with 1 Axes>"
      ]
     },
     "metadata": {},
     "output_type": "display_data"
    }
   ],
   "source": [
    "import matplotlib.pyplot as plt\n",
    "import seaborn as sns\n",
    "sports_hall = ['Volleyball' , 'Basketball']\n",
    "basket_volley = df_olympic[(df_olympic['Year'] == 2016) & df_olympic['Sport'].isin(sports_hall)]\n",
    "sns.set_style('darkgrid')\n",
    "fig, ax = plt.subplots(figsize=(12,6))\n",
    "sns.distplot(basket_volley['Height'] , kde = True , hist = False)\n",
    "# etiquetar el eje\n",
    "# label the axis\n",
    "label_graph(15 , 'Players Heights' , 'Probability density (PDF)' ,'Normal Distribution' , 20 ) "
   ]
  },
  {
   "cell_type": "markdown",
   "metadata": {
    "id": "b6RBwCOww5lw"
   },
   "source": [
    "Como podemos ver, estos datos se distribuyen en una distribución normal y el eje y representa la probabilidad.\n",
    "\n",
    "As we can see, this data is distributed in a normal distribution and the y-axis represents the probability."
   ]
  },
  {
   "cell_type": "code",
   "execution_count": 116,
   "metadata": {
    "colab": {
     "base_uri": "https://localhost:8080/",
     "height": 596
    },
    "id": "2GoF7cU5ycc9",
    "outputId": "7b62a953-4399-49d4-d3cc-96651b1ce4cb"
   },
   "outputs": [
    {
     "data": {
      "image/png": "[encoded data removed]",
      "text/plain": [
       "<Figure size 864x432 with 1 Axes>"
      ]
     },
     "metadata": {},
     "output_type": "display_data"
    }
   ],
   "source": [
    "# La CDF (Cumulative distribution function) proporciona la probabilidad acumulada de cada valor de x.\n",
    "# The CDF (Cumulative distribution function) provides the cumulative probability of each value of x.\n",
    "fig, ax = plt.subplots(figsize=(12,6))\n",
    "sns.ecdfplot(data=df_olympic, x=\"Height\")\n",
    "# ejes marcados\n",
    "# label axis\n",
    "label_graph(18,'Players Heights',  'CDF', 'Cdf for Normal Distribution', 20)"
   ]
  },
  {
   "cell_type": "markdown",
   "metadata": {
    "id": "HSBfAG871h3r"
   },
   "source": [
    "Test de Normalidad. Podemos probar la normalidad de muchas maneras, pero nos centraremos sólo en esta visualización llamada cuantil-cuantil o gráfico Q — Q.\n",
    "\n",
    "Normality Test. We can test for normality in many ways, but we will focus only on this visualization called the quantile-quantile or Q — Q plot."
   ]
  },
  {
   "cell_type": "code",
   "execution_count": 117,
   "metadata": {
    "colab": {
     "base_uri": "https://localhost:8080/",
     "height": 472
    },
    "id": "Dc65J2yX1ljQ",
    "outputId": "303cd446-2d62-4a2e-d3bf-a5118d228967"
   },
   "outputs": [
    {
     "data": {
      "image/png": "[encoded data removed]",
      "text/plain": [
       "<Figure size 432x288 with 1 Axes>"
      ]
     },
     "metadata": {},
     "output_type": "display_data"
    }
   ],
   "source": [
    "from scipy import stats\n",
    "stats.probplot(basket_volley['Height'], dist = 'norm' , plot=plt) \n",
    "plt.show()"
   ]
  },
  {
   "cell_type": "markdown",
   "metadata": {
    "id": "r9OPlrwj3AEy"
   },
   "source": [
    "Los puntos azules representan nuestros datos y la línea diagonal representa la distribución normal. Si los puntos de datos siguen la línea diagonal, los datos se distribuirán normalmente.\n",
    "The blue dots represent our data and the diagonal line represents the normal distribution. If the data points follow the diagonal line, the data will be normally distributed."
   ]
  },
  {
   "cell_type": "markdown",
   "metadata": {
    "id": "rh1XPu4d4Qbe"
   },
   "source": [
    "La distribución normal estándar, también llamada distribución Z, es una distribución de probabilidad continua y es una distribución normal especial donde la media de la distribución Z es siempre 0 y la desviación estándar = 1.\n",
    "The standard normal distribution, also called the Z distribution, is a continuous probability distribution and is a special normal distribution where the mean of the Z distribution is always 0 and the standard deviation = 1."
   ]
  },
  {
   "cell_type": "markdown",
   "metadata": {
    "id": "pMBTkRE34tp7"
   },
   "source": [
    "**Ejemplo 1.** Tomemos la distribución Z para las alturas de los jugadores, si tomamos un jugador al azar. ¿Cuál es la probabilidad de que la altura del jugador supere los 195 centímetros?\n",
    "\n",
    "**Example 1.** Let's take the Z distribution for the heights of the players, if we take a random player. What is the probability that the player's height exceeds 195 centimeters?"
   ]
  },
  {
   "cell_type": "code",
   "execution_count": 118,
   "metadata": {
    "colab": {
     "base_uri": "https://localhost:8080/"
    },
    "id": "PbFia26948sm",
    "outputId": "fb5890ea-e76c-4965-d3fd-75ee12844306"
   },
   "outputs": [
    {
     "name": "stdout",
     "output_type": "stream",
     "text": [
      "La probabilidad es 0.37 o 36.63%\n"
     ]
    }
   ],
   "source": [
    "import numpy as np\n",
    "mu = np.mean(basket_volley['Height'])\n",
    "std = np.std(basket_volley['Height'])\n",
    "cdf_195 = stats.norm(loc = mu , scale = std).cdf(195)\n",
    "probability = 1- cdf_195\n",
    "print('La probabilidad es {} o {}%'.format(round(probability , 2) , round(probability*100 , 2)))"
   ]
  },
  {
   "cell_type": "markdown",
   "metadata": {
    "id": "4uo1k5Do54UK"
   },
   "source": [
    "**Ejemplo 2.** ¿Cuál es la probabilidad de que la altura de un jugador tomado al azar sea menor de 170 centímetros?\n",
    "\n",
    "**Example 2.** What is the probability that the height of a player taken at random is less than 170 centimeters?"
   ]
  },
  {
   "cell_type": "code",
   "execution_count": 119,
   "metadata": {
    "colab": {
     "base_uri": "https://localhost:8080/"
    },
    "id": "71dwNVFO5-1a",
    "outputId": "aff238c0-53ef-4331-be35-63e8ead31854"
   },
   "outputs": [
    {
     "name": "stdout",
     "output_type": "stream",
     "text": [
      "La probabilidad es 0.03 o 3.11%\n"
     ]
    }
   ],
   "source": [
    "prob = stats.norm(loc = mu , scale = std).cdf(170)\n",
    "print('La probabilidad es {} o {}%'.format(round(prob , 2) , round(prob*100 , 2)))"
   ]
  },
  {
   "cell_type": "markdown",
   "metadata": {
    "id": "rQqsFwGV6IGs"
   },
   "source": [
    "**Ejemplo 3.** ¿Cuál es la probabilidad de que la altura del jugador esté entre 170 y 185 centímetros?\n",
    "\n",
    "**Example 3.** What is the probability that the player's height is between 170 and 185 centimeters?"
   ]
  },
  {
   "cell_type": "code",
   "execution_count": 120,
   "metadata": {
    "colab": {
     "base_uri": "https://localhost:8080/"
    },
    "id": "RfJju88_6UZe",
    "outputId": "7850aff8-4506-4ee4-a899-4921265fa9cf"
   },
   "outputs": [
    {
     "name": "stdout",
     "output_type": "stream",
     "text": [
      "La probabilidad es 0.26 o 26.32%\n"
     ]
    }
   ],
   "source": [
    "cdf_upper = stats.norm(loc = mu , scale = std).cdf(185)\n",
    "cdf_lower = stats.norm(loc = mu , scale = std).cdf(170)\n",
    " \n",
    "prob = cdf_upper - cdf_lower\n",
    "print('La probabilidad es {} o {}%'.format(round(prob , 2) , round(prob*100 , 2)))"
   ]
  },
  {
   "cell_type": "code",
   "execution_count": 121,
   "metadata": {
    "colab": {
     "base_uri": "https://localhost:8080/",
     "height": 452
    },
    "id": "zmGugATi1sDB",
    "outputId": "58cc3a54-d9ad-4946-e408-ccf24a7b1b20",
    "pycharm": {
     "name": "#%%\n"
    }
   },
   "outputs": [
    {
     "data": {
      "image/png": "[encoded data removed]",
      "text/plain": [
       "<Figure size 432x288 with 4 Axes>"
      ]
     },
     "metadata": {},
     "output_type": "display_data"
    }
   ],
   "source": [
    "# Volviendo a la data so_survey trataremos datos que no siguen una distrubución normal\n",
    "# Returning to the so_survey data we will process data that does not follow a normal distribution\n",
    "import matplotlib.pyplot as plt\n",
    "import seaborn as sns\n",
    "# Creamos un histograma de las variables numéricas\n",
    "# We create a histogram of the numerical variables\n",
    "so_numeric_df.hist()\n",
    "plt.show()"
   ]
  },
  {
   "cell_type": "code",
   "execution_count": 122,
   "metadata": {
    "colab": {
     "base_uri": "https://localhost:8080/"
    },
    "id": "GoLmDnvI1sDC",
    "outputId": "2035ad70-13e1-4fa7-8c3d-a46de64ff08b",
    "pycharm": {
     "name": "#%%\n"
    }
   },
   "outputs": [
    {
     "name": "stdout",
     "output_type": "stream",
     "text": [
      "       ConvertedSalary  StackOverflowJobsRecommend         Age  \\\n",
      "count     6.650000e+02                  487.000000  999.000000   \n",
      "mean      9.256517e+04                    7.061602   36.003003   \n",
      "std       2.091344e+05                    2.621591   13.255127   \n",
      "min       0.000000e+00                    0.000000   18.000000   \n",
      "25%       2.755000e+04                    5.000000   25.000000   \n",
      "50%       5.556200e+04                    7.000000   35.000000   \n",
      "75%       8.823800e+04                   10.000000   45.000000   \n",
      "max       2.000000e+06                   10.000000   83.000000   \n",
      "\n",
      "       Years Experience  \n",
      "count        999.000000  \n",
      "mean           9.961962  \n",
      "std            4.878129  \n",
      "min            0.000000  \n",
      "25%            7.000000  \n",
      "50%           10.000000  \n",
      "75%           13.000000  \n",
      "max           27.000000  \n"
     ]
    }
   ],
   "source": [
    "# A menudo es útil el resumen estadístico\n",
    "# Statistical summary is often useful\n",
    "print(so_numeric_df.describe())"
   ]
  },
  {
   "cell_type": "markdown",
   "metadata": {
    "id": "Gp67dBBV1sDC"
   },
   "source": [
    "**Transformación Log a normal**\n",
    "___\n",
    "    - puede hacer que las distribuciones altamente sesgadas sean menos sesgadas\n",
    "    - PowerTransformer() del módulo de preprocesamiento scikit-learn\n",
    "___\n",
    "\n",
    "**Log to normal transformation**\n",
    "___\n",
    "    - can make highly skewed distributions less skewed\n",
    "    - PowerTransformer() from scikit-learn preprocessing module\n",
    "___"
   ]
  },
  {
   "cell_type": "code",
   "execution_count": 123,
   "metadata": {
    "colab": {
     "base_uri": "https://localhost:8080/",
     "height": 470
    },
    "id": "fG76s-7U1sDE",
    "outputId": "e4c6d2aa-b2cd-4f4c-8e3a-7ed15598a4a1",
    "pycharm": {
     "name": "#%%\n"
    }
   },
   "outputs": [
    {
     "name": "stderr",
     "output_type": "stream",
     "text": [
      "/home/alejandro/.pyenv/versions/3.7.13/lib/python3.7/site-packages/ipykernel_launcher.py:24: SettingWithCopyWarning: \n",
      "A value is trying to be set on a copy of a slice from a DataFrame.\n",
      "Try using .loc[row_indexer,col_indexer] = value instead\n",
      "\n",
      "See the caveats in the documentation: https://pandas.pydata.org/pandas-docs/stable/user_guide/indexing.html#returning-a-view-versus-a-copy\n"
     ]
    },
    {
     "data": {
      "image/png": "[encoded data removed]",
      "text/plain": [
       "<Figure size 432x288 with 2 Axes>"
      ]
     },
     "metadata": {},
     "output_type": "display_data"
    }
   ],
   "source": [
    "# Transformación Log\n",
    "\n",
    "# En muchos casos la distribución tiene una cola larga donde los datos \n",
    "# no se distribuyen normalmente, acá es útil esta transformación\n",
    "\n",
    "# Log Transformation\n",
    "\n",
    "# In many cases the distribution has a long tail where the data\n",
    "# are not normally distributed, this transformation is useful here\n",
    "\n",
    "# Import PowerTransformer\n",
    "from sklearn.preprocessing import PowerTransformer\n",
    "\n",
    "# Se crea una instancia PowerTransformer\n",
    "# A PowerTransformer instance is created\n",
    "pow_trans = PowerTransformer()\n",
    "\n",
    "# Se debe entrenar la transformación en los datos\n",
    "# The transformation must be trained on the data\n",
    "pow_trans.fit(so_numeric_df[['ConvertedSalary']])\n",
    "\n",
    "# Aplicar la transformación de potencia a los datos\n",
    "# Apply power transformation to data\n",
    "so_numeric_df['ConvertedSalary_LOG'] = pow_trans.transform(so_numeric_df[['ConvertedSalary']])\n",
    "\n",
    "# Graficar los datos antes y después de la transformación para notar la diferencia\n",
    "# Plot the data before and after the transformation to notice the difference\n",
    "so_numeric_df[['ConvertedSalary', 'ConvertedSalary_LOG']].hist()\n",
    "plt.show()"
   ]
  },
  {
   "cell_type": "markdown",
   "metadata": {
    "id": "_c3j1GPh1sDE"
   },
   "source": [
    "¿Notaste el cambio en la forma de la distribución?\n",
    "La columna ConvertedSalary_LOG se ve mucho más normal que la original\n",
    "Columna ConvertedSalary.La utilidad de esto es calcular probabilidades con la distribución normal como lo hicimos para el caso de los basquetbolistas.\n",
    "\n",
    "Did you notice the change in the shape of the distribution?\n",
    "The ConvertedSalary_LOG column looks much more normal than the original\n",
    "ConvertedSalary column. The usefulness of this is to calculate probabilities with the normal distribution as we did for the case of basketball players."
   ]
  },
  {
   "cell_type": "markdown",
   "metadata": {},
   "source": [
    "Usar la mediana en lugar de la media es recomendable para ciertas situaciones, principalmente en datos sesgados, es decir, cuando la distribución de los datos está sesgada hacia un extremo, la media puede verse afectada por los valores extremos y no proporcionar una representación adecuada de la tendencia central de los datos. Otras situaciones con datos categóricos, datos con distribuciones asimétricas y datos con muchos valores atípicos. En los siguientes análisis se usan los diagramas de caja que se basan en la mediana y los percentiles también relacionados a ella. Los cuartiles es básicamente dividir el espectro de datos en 4 partes, para esto usamos 3 cuartiles. Por ejemplo, el segundo cuartil (Q2), es el valor que separa el 50% inferior de los datos del 50% superior. El segundo cuartil es equivalente a la mediana de los datos.\n",
    "\n",
    "Using the median instead of the mean is advisable for certain situations, mainly in skewed data, that is, when the distribution of the data is skewed towards one extreme, the mean may be affected by the extreme values ​​and not provide an adequate representation of the central tendency of the data. Other situations with categorical data, data with skewed distributions, and data with many outliers. In the following analyzes box plots are used that are based on the median and the percentiles also related to it. Quartiles are basically dividing the data spectrum into 4 parts, for this we use 3 quartiles. For example, the second quartile (Q2), is the value that separates the bottom 50% of the data from the top 50%. The second quartile is equivalent to the median of the data."
   ]
  },
  {
   "cell_type": "markdown",
   "metadata": {
    "id": "o0sCaeqoAky_"
   },
   "source": [
    "**Diagrama de cajas**\n",
    "___\n",
    "\n",
    "- Profundizando más con diagramas de caja\n",
    "    - Rango intercuartil (IQR) = 25th (Q1) percentil a 75th (Q3) percentil\n",
    "    - Minimo = Q1 - 1.5 IQR\n",
    "    - Máximo = Q3 + 1.5 IQR\n",
    "    - Los valores atípicos están fuera del mínimo y máximo\n",
    "___\n",
    "\n",
    "**Box plot**\n",
    "___\n",
    "\n",
    "- Going deeper with box plots\n",
    "    - Interquartile range (IQR) = 25th (Q1) percentile to 75th (Q3) percentile\n",
    "    - Minimum = Q1 - 1.5 IQR\n",
    "    - Maximum = Q3 + 1.5 IQR\n",
    "    - Outliers are outside the minimum and maximum\n",
    "___"
   ]
  },
  {
   "cell_type": "markdown",
   "metadata": {
    "id": "DVL-msnV1sDE"
   },
   "source": [
    "**Removiendo outliers**\n",
    "___\n",
    "- Detección basada en quantiles (en la función utilizada a continuación usamos los percentiles, ya que, quantiles se refiere a la familia de divisores del espectro. Ejemplos, cuartiles, quintiles, percentiles, etc)\n",
    "- Detección basada en Desviación estándard\n",
    "___\n",
    "\n",
    "**Removing outliers**\n",
    "___\n",
    "- Detection based on quantiles (in the function used below we use percentiles, since quantiles refers to the family of divisors of the spectrum. Examples, quartiles, quintiles, percentiles, etc.)\n",
    "- Detection based on Standard Deviation\n",
    "___"
   ]
  },
  {
   "cell_type": "code",
   "execution_count": 124,
   "metadata": {
    "colab": {
     "base_uri": "https://localhost:8080/",
     "height": 923
    },
    "id": "_-sPnjzF1sDE",
    "outputId": "848f7981-3b7b-4bcc-9067-a1a8560c41ca",
    "pycharm": {
     "name": "#%%\n"
    }
   },
   "outputs": [
    {
     "data": {
      "image/png": "[encoded data removed]",
      "text/plain": [
       "<Figure size 432x288 with 1 Axes>"
      ]
     },
     "metadata": {},
     "output_type": "display_data"
    },
    {
     "data": {
      "text/plain": [
       "<Figure size 432x288 with 0 Axes>"
      ]
     },
     "metadata": {},
     "output_type": "display_data"
    },
    {
     "data": {
      "image/png": "[encoded data removed]",
      "text/plain": [
       "<Figure size 432x288 with 1 Axes>"
      ]
     },
     "metadata": {},
     "output_type": "display_data"
    }
   ],
   "source": [
    "# Detección basada en quantiles\n",
    "#Quantile-based detection\n",
    "\n",
    "# Encontrar el 95th percentil\n",
    "# Find the 95th percentile\n",
    "quantile = so_numeric_df['ConvertedSalary'].quantile(0.95)\n",
    "\n",
    "# Recortar los outliers\n",
    "# Trim outliers\n",
    "trimmed_df = so_numeric_df[so_numeric_df['ConvertedSalary'] < quantile]\n",
    "\n",
    "# Graficamos el histograma original\n",
    "# We plot the original histogram\n",
    "so_numeric_df[['ConvertedSalary']].hist()\n",
    "plt.show()\n",
    "plt.clf()\n",
    "\n",
    "# Graficamos el histograma con los outliers eliminados\n",
    "# We plot the histogram with the outliers removed\n",
    "trimmed_df[['ConvertedSalary']].hist()\n",
    "plt.show()"
   ]
  },
  {
   "cell_type": "code",
   "execution_count": 125,
   "metadata": {
    "colab": {
     "base_uri": "https://localhost:8080/",
     "height": 445
    },
    "id": "jxhs0PR21sDB",
    "outputId": "0bb67221-01c9-4f10-c8b2-38ec534cce99",
    "pycharm": {
     "name": "#%%\n"
    }
   },
   "outputs": [
    {
     "data": {
      "image/png": "[encoded data removed]",
      "text/plain": [
       "<Figure size 432x288 with 1 Axes>"
      ]
     },
     "metadata": {},
     "output_type": "display_data"
    }
   ],
   "source": [
    "# Crear un boxplot de ConvertedSalary original\n",
    "# Create a boxplot of original ConvertedSalary\n",
    "so_numeric_df[['ConvertedSalary']].boxplot()\n",
    "plt.show()"
   ]
  },
  {
   "cell_type": "markdown",
   "metadata": {
    "id": "pxReh2DE1sDE"
   },
   "source": [
    "En el siguiente ejercicio, trabajará con un enfoque estadísticamente más sólido (robusto) para eliminar los valores atípicos.\n",
    "\n",
    "In the following exercise, you will work with a more statistically sound (robust) approach to removing outliers."
   ]
  },
  {
   "cell_type": "code",
   "execution_count": 126,
   "metadata": {
    "colab": {
     "base_uri": "https://localhost:8080/",
     "height": 430
    },
    "id": "8s6hAoru1sDE",
    "outputId": "9584c758-a01a-4343-d66a-05fb87e1c7f5",
    "pycharm": {
     "name": "#%%\n"
    }
   },
   "outputs": [
    {
     "data": {
      "image/png": "[encoded data removed]",
      "text/plain": [
       "<Figure size 432x288 with 1 Axes>"
      ]
     },
     "metadata": {},
     "output_type": "display_data"
    }
   ],
   "source": [
    "# Remoción estadística de outliers\n",
    "\n",
    "# El inconveniente que tiene el método anterior es que se eliminan\n",
    "# constantemente la misma proporción de outliers, otra manera de abordar\n",
    "# este problema es eliminar los valores atípicos que están sobre \n",
    "# 3 desviaciones estándard y bajo 3 desviaciones estándard\n",
    "\n",
    "# Statistical removal of outliers\n",
    "\n",
    "# The drawback of the previous method is that they eliminate\n",
    "# constantly the same proportion of outliers, another way of approaching\n",
    "# this problem is to remove the outliers that are above\n",
    "# 3 standard deviations and under 3 standard deviations\n",
    "\n",
    "# 1ro encontramos la media y SD de la columna de interés\n",
    "#1st we find the mean and SD of the column of interest\n",
    "std = so_numeric_df['ConvertedSalary'].std()\n",
    "mean = so_numeric_df['ConvertedSalary'].mean()\n",
    "\n",
    "# Calculamos el cutoff\n",
    "# We calculate the cutoff\n",
    "cut_off = std * 3\n",
    "lower, upper = mean - cut_off, mean + cut_off\n",
    "\n",
    "# Removemos los outliers\n",
    "# We remove the outliers\n",
    "trimmed_df = so_numeric_df[(so_numeric_df['ConvertedSalary'] < upper) \\\n",
    "                           & (so_numeric_df['ConvertedSalary'] > lower)]\n",
    "\n",
    "# graficamos el box plot con los valores removidos\n",
    "# we plot the box plot with the values removed\n",
    "trimmed_df[['ConvertedSalary']].boxplot()\n",
    "plt.show()"
   ]
  },
  {
   "cell_type": "markdown",
   "metadata": {
    "id": "-hFzNxis1sDF"
   },
   "source": [
    "¿Notaste el cambio de escala en el eje y?\n",
    "Note que antes los valores atípicos llegaban hasta 2.000.000, ahora sólo hasta 600.000. \n",
    "Por lo tanto, esta será la data con la que trabajaremos para predicciones. Strong\n",
    "\n",
    "Did you notice the change in scale on the y-axis?\n",
    "Note that before the outliers reached up to 2,000,000, now they only reach up to 600,000.\n",
    "Therefore, this will be the data with which we will work for predictions. strong"
   ]
  }
 ],
 "metadata": {
  "colab": {
   "provenance": []
  },
  "kernelspec": {
   "display_name": "Python 3 (ipykernel)",
   "language": "python",
   "name": "python3"
  },
  "language_info": {
   "codemirror_mode": {
    "name": "ipython",
    "version": 3
   },
   "file_extension": ".py",
   "mimetype": "text/x-python",
   "name": "python",
   "nbconvert_exporter": "python",
   "pygments_lexer": "ipython3",
   "version": "3.7.13"
  }
 },
 "nbformat": 4,
 "nbformat_minor": 1
}
